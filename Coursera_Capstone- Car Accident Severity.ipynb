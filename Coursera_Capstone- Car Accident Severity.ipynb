{
 "cells": [
  {
   "cell_type": "markdown",
   "metadata": {},
   "source": [
    "Introduction/Business Problem\n",
    "The purpose of this project is to see if there is a link between the collision type to the severity of the collision in our Seattle data (Week 1 of Applied Data Science Capstone). By knowing the collision type that causes the most severe injury we can take the steps to improve vehicle safety, by implementing extra safety measures to all car manufacturer's. "
   ]
  },
  {
   "cell_type": "markdown",
   "metadata": {},
   "source": [
    "The data I will be using is the data from Week 1 in Applied Data Science Capstone. It is the data of all vehicle collisions that have happened in Seattle throughout the years.\n",
    "The description of the data is within this link:\n",
    "https://s3.us.cloud-object-storage.appdomain.cloud/cf-courses-data/CognitiveClass/DP0701EN/version-2/Metadata.pdf  "
   ]
  },
  {
   "cell_type": "code",
   "execution_count": null,
   "metadata": {},
   "outputs": [],
   "source": []
  }
 ],
 "metadata": {
  "kernelspec": {
   "display_name": "Python",
   "language": "python",
   "name": "conda-env-python-py"
  },
  "language_info": {
   "codemirror_mode": {
    "name": "ipython",
    "version": 3
   },
   "file_extension": ".py",
   "mimetype": "text/x-python",
   "name": "python",
   "nbconvert_exporter": "python",
   "pygments_lexer": "ipython3",
   "version": "3.6.11"
  }
 },
 "nbformat": 4,
 "nbformat_minor": 4
}
